{
 "cells": [
  {
   "cell_type": "markdown",
   "id": "f4578890",
   "metadata": {},
   "source": [
    "# Парсер отзывов с сайта banki.ru"
   ]
  },
  {
   "cell_type": "markdown",
   "id": "152d7b44",
   "metadata": {},
   "source": [
    "## Подготовка к написанию парсера "
   ]
  },
  {
   "cell_type": "code",
   "execution_count": null,
   "id": "afc71b5b",
   "metadata": {},
   "outputs": [],
   "source": [
    "import requests\n",
    "from bs4 import BeautifulSoup\n",
    "import pandas as pd\n",
    "import ssl\n",
    "import time as t\n",
    "import random\n",
    "from tqdm import tqdm\n",
    "import concurrent.futures"
   ]
  },
  {
   "cell_type": "markdown",
   "id": "886726cf",
   "metadata": {},
   "source": [
    "## Задача"
   ]
  },
  {
   "cell_type": "markdown",
   "id": "b68ba8fe",
   "metadata": {},
   "source": [
    "Посмотрим, как выглядит отзыв и какие данные нам потребуется из него вынести.\n",
    "\n",
    "Пример отзыва - https://www.banki.ru/services/responses/bank/response/11246599/\n",
    "\n",
    "Из отзыва нам потребуется: \n",
    "* имя пользователя, оставившего отзыв - текст\n",
    "* название банка, на который оставлен отзыв - текст\n",
    "* общая оценка - число\n",
    "* оценки прозрачности условий, вежливости сотрудников, доступности и поддержки, удобства приложения и сайта - числа\n",
    "* заголовок отзыва - текст\n",
    "* текст отзыва - текст\n",
    "* дата отзыва - дата\n",
    "* url - текст"
   ]
  },
  {
   "cell_type": "markdown",
   "id": "91fc14a1",
   "metadata": {},
   "source": [
    "Все проверенные отзывы можно просмотреть по ссылке - https://www.banki.ru/services/responses/list/?page=1&is_countable=on\n",
    "\n",
    "Отзывы хранятся в объектах в виде href=\"/services/responses/bank/response/11254715/\" \n",
    "\n",
    "Мы соберём ссылки на отзывы в один список.\n",
    "\n",
    "\n",
    "\n"
   ]
  },
  {
   "cell_type": "code",
   "execution_count": 2,
   "id": "030818dd",
   "metadata": {},
   "outputs": [],
   "source": [
    "# параметры для requests.get()\n",
    "st_accept = 'text/html'\n",
    "st_useragent = 'Mozilla/5.0 (Macintosh; Intel Mac OS X 13_1) AppleWebKit/605.1.15 (KHTML, like Gecko) Version/16.1 Safari/605.1.15'\n",
    "TIMEOUT = 25\n",
    "headers = {\n",
    "    \"Accept\": st_accept,\n",
    "    \"User-Agent\": st_useragent\n",
    "}\n"
   ]
  },
  {
   "cell_type": "code",
   "execution_count": 3,
   "id": "c15e47f2",
   "metadata": {},
   "outputs": [],
   "source": [
    "session = requests.Session()\n",
    "session.headers = headers"
   ]
  },
  {
   "cell_type": "markdown",
   "id": "41c9934e",
   "metadata": {},
   "source": [
    "## Сбор ссылок"
   ]
  },
  {
   "cell_type": "markdown",
   "id": "21f7b759",
   "metadata": {},
   "source": [
    "Код функции сбора ссылок на отзывы. (не собирает ничего больше)"
   ]
  },
  {
   "cell_type": "code",
   "execution_count": 4,
   "id": "bae76ea2",
   "metadata": {},
   "outputs": [],
   "source": [
    "\n",
    "def get_hrefs(url):\n",
    "    r = requests.get(url, headers=headers, timeout=TIMEOUT)\n",
    "    page_number = url[url.find('=') + 1:url.find(\"&\")]\n",
    "    bs = BeautifulSoup(r.text)\n",
    "    links = []\n",
    "    for a in bs.find_all(\"a\", href=True):\n",
    "        link = a['href']\n",
    "        if r\"/services/responses/bank/response/\" in link and \"#comments\" not in link:\n",
    "            link_code = link[link.rfind('response/') + 8::]\n",
    "            if link_code not in links:\n",
    "                links.append(link_code)\n",
    "    return (links, page_number)"
   ]
  },
  {
   "cell_type": "markdown",
   "id": "af7db4df",
   "metadata": {},
   "source": [
    "На момент 15.12.23 на сайте примерно 18900 страниц с отзывами, прошедшими модерацию"
   ]
  },
  {
   "cell_type": "code",
   "execution_count": 5,
   "id": "c4fb8e51",
   "metadata": {},
   "outputs": [],
   "source": [
    "# занесем все страницы для сбора в список\n",
    "urls = [f\"https://www.banki.ru/services/responses/list/?page={page_number}&is_countable=on\" for page_number in range(1, 18900)]"
   ]
  },
  {
   "cell_type": "markdown",
   "id": "1a2a4ca0",
   "metadata": {},
   "source": [
    "Далее следует код сбора ссылок\n",
    "#### Внимание!\n",
    "На выполнение этого блока кода уйдёт примерно 4-5 часов."
   ]
  },
  {
   "cell_type": "code",
   "execution_count": 6,
   "id": "5a034255",
   "metadata": {
    "scrolled": true
   },
   "outputs": [
    {
     "name": "stderr",
     "output_type": "stream",
     "text": [
      "100%|██████████| 33444/33444 [7:57:28<00:00,  1.17it/s]   "
     ]
    },
    {
     "name": "stdout",
     "output_type": "stream",
     "text": [
      "errors occured: 1124\n"
     ]
    },
    {
     "name": "stderr",
     "output_type": "stream",
     "text": [
      "\n"
     ]
    }
   ],
   "source": [
    "res = []\n",
    "f = open(\"review_links.txt\", 'a')  #файл хранящий ссылки\n",
    "err = open('errors.txt', 'a')  #файл хранящий возникающие ошибки\n",
    "completed_pages = open('completed_pages.txt', 'a') #файл хранящий номера отработанных страниц\n",
    "err_counter = 0\n",
    "CONNECTIONS = 6  #кол-во потоков\n",
    "with concurrent.futures.ThreadPoolExecutor(max_workers=CONNECTIONS) as executor:\n",
    "    future_to_url = (executor.submit(get_hrefs, url) for url in urls)\n",
    "    for future in tqdm(concurrent.futures.as_completed(future_to_url), total=len(urls)):\n",
    "        try:\n",
    "            data = future.result()\n",
    "            add_row = True\n",
    "        except Exception as exc:\n",
    "            add_row = False\n",
    "            err_counter += 1\n",
    "            err.write(str(exc) + \"\\n\")\n",
    "        finally:\n",
    "            if add_row:\n",
    "                for el in data[0]:\n",
    "                    f.write(el + '\\n')\n",
    "                completed_pages.write(data[1] + \",\")\n",
    "            else:\n",
    "                pass\n",
    "f.close()\n",
    "err.close()\n",
    "completed_pages.close()\n",
    "print('errors occured:', err_counter)"
   ]
  },
  {
   "cell_type": "code",
   "execution_count": 11,
   "id": "34f39f5d",
   "metadata": {},
   "outputs": [
    {
     "name": "stdout",
     "output_type": "stream",
     "text": [
      "Спарсилось ссылок с 54455 страниц. Всего 463813 ссылок на отзывы\n"
     ]
    }
   ],
   "source": [
    "completed_pages = open(\"completed_pages.txt\", \"r\")\n",
    "review_links = open('review_links.txt', \"r\")\n",
    "cleared_links = set(review_links.readlines())\n",
    "comp_p = completed_pages.readline().replace(\"-,\", '').split(\",\")\n",
    "print(f\"Спарсилось ссылок с {len(comp_p)} страниц. Всего {len(cleared_links)} ссылок на отзывы\")\n",
    "completed_pages.close()\n",
    "review_links.close()"
   ]
  },
  {
   "cell_type": "markdown",
   "id": "fc2a5c59",
   "metadata": {},
   "source": [
    "## Парсер"
   ]
  },
  {
   "cell_type": "markdown",
   "id": "57bdb1f1",
   "metadata": {},
   "source": [
    "Посмотрим, как выглядит страничка с отзывом"
   ]
  },
  {
   "cell_type": "code",
   "execution_count": 80,
   "id": "f63b6045",
   "metadata": {},
   "outputs": [
    {
     "data": {
      "text/plain": [
       "<Response [200]>"
      ]
     },
     "execution_count": 80,
     "metadata": {},
     "output_type": "execute_result"
    }
   ],
   "source": [
    "url = \"https://www.banki.ru/services/responses/bank/response/11273898/\"\n",
    "r = requests.get(url)\n",
    "r"
   ]
  },
  {
   "cell_type": "code",
   "execution_count": null,
   "id": "05b5c896",
   "metadata": {},
   "outputs": [],
   "source": [
    "bs = BeautifulSoup(r.text)\n",
    "#bs"
   ]
  },
  {
   "cell_type": "markdown",
   "id": "2a942caa",
   "metadata": {},
   "source": [
    "Текст отзыва"
   ]
  },
  {
   "cell_type": "code",
   "execution_count": 82,
   "id": "0aae329a",
   "metadata": {
    "scrolled": true
   },
   "outputs": [
    {
     "data": {
      "text/plain": [
       "'\\nБанк обманывает на кешбэк. Были приобретены билеты на сумму более 1 млн рублей. Перед приобретением был момент согласования через приложение и по телефону с сотрудниками банка возможность начисления кешбэка. начисление кешбэка подтвердили устно и письменно. Билеты приобретены были для родственника, у которого нет карты Тинькофф о чем тоже заранее сообщили банку. Кешбек был в сумме 79000 рубле...банк обманнывает уже не в первый раз. Есть возможность как то повлиять на это?\\xa0\\n'"
      ]
     },
     "execution_count": 82,
     "metadata": {},
     "output_type": "execute_result"
    }
   ],
   "source": [
    "bs.find(\"div\", {\"class\": \"lb1789875\"}).text"
   ]
  },
  {
   "cell_type": "markdown",
   "id": "7049d148",
   "metadata": {},
   "source": [
    "заголовок отзыва, имя пользователя и название банка"
   ]
  },
  {
   "cell_type": "code",
   "execution_count": 51,
   "id": "fc31966b",
   "metadata": {},
   "outputs": [
    {
     "data": {
      "text/plain": [
       "<title>Прекрасный банк, прекрасные работники. Обратилась в банк, помогала девушка (Данилина Елена) очень добрый и отзывчивый человек. Помогла выбрать кредит и его условия.очень приятно.Спасибо большое за таких сотрудников. Обязательно приду ещё к вам в банк !!!! – отзыв о Банке Русский Стандарт от \"user-290812840908\" | Банки.ру</title>"
      ]
     },
     "execution_count": 51,
     "metadata": {},
     "output_type": "execute_result"
    }
   ],
   "source": [
    "bs.find('title')"
   ]
  },
  {
   "cell_type": "markdown",
   "id": "29885855",
   "metadata": {},
   "source": [
    "дата и время отзыва"
   ]
  },
  {
   "cell_type": "code",
   "execution_count": 30,
   "id": "629bdba1",
   "metadata": {},
   "outputs": [
    {
     "data": {
      "text/plain": [
       "'\\n\\t\\t\\t12.12.2023 19:53\\n\\t\\t'"
      ]
     },
     "execution_count": 30,
     "metadata": {},
     "output_type": "execute_result"
    }
   ],
   "source": [
    "bs.find('span', {'class': 'l10fac986'}).text"
   ]
  },
  {
   "cell_type": "markdown",
   "id": "a50afe7c",
   "metadata": {},
   "source": [
    "оценка отзыва"
   ]
  },
  {
   "cell_type": "code",
   "execution_count": 34,
   "id": "4523854c",
   "metadata": {},
   "outputs": [
    {
     "data": {
      "text/plain": [
       "'5'"
      ]
     },
     "execution_count": 34,
     "metadata": {},
     "output_type": "execute_result"
    }
   ],
   "source": [
    "bs.find(\"div\", {'class': \"rating-grade\"}).text"
   ]
  },
  {
   "cell_type": "markdown",
   "id": "5c1d8ccd",
   "metadata": {},
   "source": [
    "дополнительные оценки"
   ]
  },
  {
   "cell_type": "code",
   "execution_count": 49,
   "id": "3f051b48",
   "metadata": {},
   "outputs": [
    {
     "name": "stdout",
     "output_type": "stream",
     "text": [
      "{'Прозрачные условия': 3, 'Вежливые сотрудники': 3, 'Доступность и поддержка': 3, 'Удобство приложения, сайта': 3}\n"
     ]
    }
   ],
   "source": [
    "additional_grades = {}\n",
    "for txts6 in bs.find_all('div', {\"class\": 'text-size-6'}):\n",
    "    additional_grades[txts6.text] = 0\n",
    "for grade in bs.find_all('div', {'class': 'ld017b199'}):\n",
    "    for key in additional_grades.keys():\n",
    "        additional_grades[key] = str(grade).count(\"l61f54b7b\")\n",
    "print(additional_grades)"
   ]
  },
  {
   "cell_type": "markdown",
   "id": "465186a3",
   "metadata": {},
   "source": [
    "Функция для сбора всего необходимого с страницы с отзывом"
   ]
  },
  {
   "cell_type": "code",
   "execution_count": 4,
   "id": "87786b1e",
   "metadata": {},
   "outputs": [],
   "source": [
    "def get_review(url):\n",
    "    r = requests.get(url)\n",
    "    bs = BeautifulSoup(r.text)\n",
    "    review_text = bs.find(\"div\", {\"class\": \"lb1789875\"}).text\n",
    "    title = str(bs.find('title'))\n",
    "    review_title = title[7:title.rfind(\" – отзыв о \"):]\n",
    "    bank_name = title[title.rfind(\" – отзыв о \") + 11:title.rfind(' от \"'):]\n",
    "    user_name = title[title.rfind(' от \"') + 5: title.rfind('\"')]\n",
    "    dt = bs.find('span', {\"class\": 'l10fac986'}).text.replace(\"\\n\", '').replace('\\t', '')\n",
    "    main_grade = bs.find(\"div\", {'class': \"rating-grade\"}).text\n",
    "    additional_grades = {}\n",
    "    for txts6 in bs.find_all('div', {\"class\": 'text-size-6'}):\n",
    "        additional_grades[txts6.text] = 0\n",
    "    i = 0\n",
    "    for grade in bs.find_all('div', {'class': 'ld017b199'}):\n",
    "        current_key = list(additional_grades.keys())[i]\n",
    "        additional_grades[current_key] = str(grade).count(\"l61f54b7b\")\n",
    "        i += 1\n",
    "    clear_conditions_grade = additional_grades.get('Прозрачные условия', 0)\n",
    "    staff_grade = additional_grades.get('Вежливые сотрудники', 0)\n",
    "    support_grade = additional_grades.get('Доступность и поддержка', 0)\n",
    "    app_site_grade = additional_grades.get('Удобство приложения, сайта', 0)\n",
    "    row = [user_name, bank_name, dt, review_title, review_text, main_grade, clear_conditions_grade, staff_grade, support_grade, app_site_grade, url]\n",
    "    return row"
   ]
  },
  {
   "cell_type": "markdown",
   "id": "ee0a06fd",
   "metadata": {},
   "source": [
    "Результат работы функции"
   ]
  },
  {
   "cell_type": "code",
   "execution_count": 5,
   "id": "ddcfce98",
   "metadata": {
    "scrolled": true
   },
   "outputs": [
    {
     "name": "stdout",
     "output_type": "stream",
     "text": [
      "user_name\n",
      "user-624114719643\n",
      "bank_name\n",
      "Совкомбанке\n",
      "dt\n",
      "08.08.2023 01:00\n",
      "review_title\n",
      "Потеря процентов из-за ответа оператора поддержки\n",
      "review_text\n",
      "\n",
      "Дебетовая карта с ПНО. Не начислены проценты 06.08. Считают, что не выполнен оборот (не хотят учитывать покупки по СБП через QR код). Оператору поддержки, мною  был предоставлен скриншот с ответом её коллеги о том, что данная операция учитывается в обороте для моей карты. Я сообщила также, что если бы ответ по участию данной операции в обороте был бы отрицательный, то я бы , естественно, выполнила оборот другими тратами..Т.е. невыполнение оборота связано исключительно с соответствующим ответом на мой вопрос оператором поддержки... Девушка согласилась, что ситуация неприятная и перевела на Главного Специалиста...Алексей И-ев(так он был предоставлен)после повторения пару раз мне условий по выплате процентов вдруг выдал, что ответ сотрудника, об учёте данной операции в обороте верен !?!?!? И ЧТО С 1 АВГУСТА ПОМЕНЯЛИСЬ УСЛОВИЯ ПО КАРТЕ !?!?!? На что я вежливо возразила, что если условия и поменялись с1 августа (о чем я слышу впервые) то для меня они начнут действовать с нового отчётного периода...После чего г-н И-ев предложил создать обращение по поводу МОЕГО НЕСОГЛАСИЯ С СУЩЕСТВУЮЩИМИ УСЛОВИЯМИ НАЧИСЛЕНИЯ ПРОЦЕНТОВ !?!? Скриншот с ответом сотрудника Главный Специалист прикрепить отказался - ВСЕ РАВНО НЕ ПОМОЖЕТ - там все корректно...!?!? Если ТАМ ВСЕ КОРРЕКТНО, и ответ оператора верен, почему не начислены проценты ?!? Если ответ не верен, то оборот не выполнен не по моей вине... УБЕДИТЕЛЬНАЯ ПРОСЬБА РАЗОБРАТЬСЯ И НАЧИСЛИТЬ ПОЛОЖЕННЫЕ ПРОЦЕНТЫ.\n",
      "\n",
      "main_grade\n",
      "1\n",
      "clear_conditions_grade\n",
      "1\n",
      "staff_grade\n",
      "3\n",
      "support_grade\n",
      "1\n",
      "app_site_grade\n",
      "1\n",
      "url\n",
      "https://www.banki.ru/services/responses/bank/response/11014706/\n"
     ]
    }
   ],
   "source": [
    "line = 'user_name, bank_name, dt, review_title, review_text, main_grade, clear_conditions_grade, staff_grade, support_grade, app_site_grade, url'.split(', ')\n",
    "res = get_review('https://www.banki.ru/services/responses/bank/response/11014706/')\n",
    "for i in range(len(res)):\n",
    "    print(line[i])\n",
    "    print(res[i])"
   ]
  },
  {
   "cell_type": "markdown",
   "id": "130bcb89",
   "metadata": {},
   "source": [
    "Запрос для создания БД, в которой будут храниться отзывы"
   ]
  },
  {
   "cell_type": "code",
   "execution_count": 7,
   "id": "971feba8",
   "metadata": {},
   "outputs": [],
   "source": [
    "import sqlite3\n",
    "\n",
    "\n",
    "DB_NAME = \"reviews.db\"\n",
    "CREATE_QUERY = '''\n",
    "CREATE TABLE IF NOT EXISTS reviews(\n",
    "id INTEGER PRIMARY KEY,\n",
    "username TEXT,\n",
    "bank_name TEXT,\n",
    "review_dtt TEXT,\n",
    "review_title TEXT,\n",
    "review_text TEXT,\n",
    "main_grade INTEGER,\n",
    "clear_conditions_grade INTEGER,\n",
    "staff_grade INTEGER,\n",
    "support_grade INTEGER,\n",
    "app_site_grade INTEGER,\n",
    "url TEXT\n",
    ")\n",
    "'''"
   ]
  },
  {
   "cell_type": "markdown",
   "id": "74c7ff63",
   "metadata": {},
   "source": [
    "Преобразование ссылок из файла в рабочий вид"
   ]
  },
  {
   "cell_type": "code",
   "execution_count": 9,
   "id": "eec63323",
   "metadata": {},
   "outputs": [],
   "source": [
    "review_links_f = open(\"review_links.txt\", 'r')\n",
    "review_links = review_links_f.readlines()\n",
    "for i in range(len(review_links)):\n",
    "    review_links[i] = int(review_links[i].replace(\"\\n\", '').replace(\"/\", ''))\n",
    "review_links = list(set(review_links))\n",
    "review_links = sorted(review_links, reverse=True)\n",
    "for i in range(len(review_links)):\n",
    "    review_links[i] = 'https://www.banki.ru/services/responses/bank/response/' + str(review_links[i])"
   ]
  },
  {
   "cell_type": "markdown",
   "id": "ef9cfba4",
   "metadata": {},
   "source": [
    "Подключение к БД"
   ]
  },
  {
   "cell_type": "code",
   "execution_count": 13,
   "id": "52a7a7ef",
   "metadata": {},
   "outputs": [],
   "source": [
    "db_connection = sqlite3.connect(DB_NAME)\n",
    "cursor = db_connection.cursor()\n",
    "cursor.execute(CREATE_QUERY)\n",
    "db_connection.commit()"
   ]
  },
  {
   "cell_type": "markdown",
   "id": "8d127536",
   "metadata": {},
   "source": [
    "Далее следует код парсера\n",
    "#### Внимание!\n",
    "Выполнение этого блока кода занимает много времени"
   ]
  },
  {
   "cell_type": "code",
   "execution_count": 11,
   "id": "6cb26347",
   "metadata": {
    "scrolled": true
   },
   "outputs": [
    {
     "name": "stderr",
     "output_type": "stream",
     "text": [
      "100%|██████████| 463813/463813 [50:42:18<00:00,  2.54it/s]       "
     ]
    },
    {
     "name": "stdout",
     "output_type": "stream",
     "text": [
      "errors occured: 21467\n"
     ]
    },
    {
     "name": "stderr",
     "output_type": "stream",
     "text": [
      "\n"
     ]
    }
   ],
   "source": [
    "COLUMNS = '''(username, bank_name, review_dtt, review_title, review_text, main_grade,\n",
    "clear_conditions_grade, staff_grade, support_grade, app_site_grade, url)'''\n",
    "ADD_QUERY = f'''\n",
    "INSERT INTO reviews {COLUMNS} VALUES (?, ?, ?, ?, ?, ?, ?, ?, ?, ?, ?) \n",
    "'''\n",
    "err_counter = 0  #счётчик ошибок\n",
    "CONNECTIONS = 6  #количество потоков\n",
    "err = open('errors.txt', 'a')  #файл с ошибками\n",
    "with concurrent.futures.ThreadPoolExecutor(max_workers=CONNECTIONS) as executor:\n",
    "    future_to_review = (executor.submit(get_review, url) for url in review_links)\n",
    "    for future in tqdm(concurrent.futures.as_completed(future_to_review), total=len(review_links)):\n",
    "        try:\n",
    "            data = future.result()\n",
    "            add_row = True\n",
    "        except Exception as exc:\n",
    "            add_row = False\n",
    "            err_counter += 1\n",
    "            err.write(str(type(exc)) + \"\\n\")\n",
    "        finally:\n",
    "            if add_row:\n",
    "                cursor.execute(ADD_QUERY, data)\n",
    "                db_connection.commit()\n",
    "            else:\n",
    "                pass\n",
    "err.close()\n",
    "print('errors occured:', err_counter)"
   ]
  },
  {
   "cell_type": "markdown",
   "id": "06a8f9c5",
   "metadata": {},
   "source": [
    "### Дозапись в БД"
   ]
  },
  {
   "cell_type": "markdown",
   "id": "14bfa5c9",
   "metadata": {},
   "source": [
    "Во время парсинга было потеряно больше 20 тысяч отзывов, допарсим их отдельно"
   ]
  },
  {
   "cell_type": "code",
   "execution_count": 28,
   "id": "b0cfaa33",
   "metadata": {},
   "outputs": [],
   "source": [
    "cursor.execute(\"\"\"SELECT url FROM reviews\"\"\")\n",
    "db_urls = cursor.fetchall()\n",
    "db_urls = [url[0] for url in db_urls]\n",
    "db_urls[:20]"
   ]
  },
  {
   "cell_type": "code",
   "execution_count": 36,
   "id": "2b4f6413",
   "metadata": {},
   "outputs": [
    {
     "name": "stdout",
     "output_type": "stream",
     "text": [
      "21467\n"
     ]
    }
   ],
   "source": [
    "not_parsed = list(set(review_links).difference(set(db_urls)))\n",
    "print(\"Не спарсилось отзывов:\", len(not_parsed))"
   ]
  },
  {
   "cell_type": "code",
   "execution_count": 37,
   "id": "20b4250e",
   "metadata": {},
   "outputs": [
    {
     "name": "stderr",
     "output_type": "stream",
     "text": [
      "100%|██████████| 21467/21467 [2:47:31<00:00,  2.14it/s]      "
     ]
    },
    {
     "name": "stdout",
     "output_type": "stream",
     "text": [
      "errors occured: 2492\n"
     ]
    },
    {
     "name": "stderr",
     "output_type": "stream",
     "text": [
      "\n"
     ]
    }
   ],
   "source": [
    "err_counter = 0\n",
    "CONNECTIONS = 6\n",
    "err = open('errors.txt', 'a')\n",
    "with concurrent.futures.ThreadPoolExecutor(max_workers=CONNECTIONS) as executor:\n",
    "    future_to_review = (executor.submit(get_review, url) for url in not_parsed)\n",
    "    for future in tqdm(concurrent.futures.as_completed(future_to_review), total=len(not_parsed)):\n",
    "        try:\n",
    "            data = future.result()\n",
    "        except Exception as exc:\n",
    "            data = ['miss'] * 11\n",
    "            err_counter += 1\n",
    "            err.write(str(type(exc)) + \"\\n\")\n",
    "        finally:\n",
    "            cursor.execute(ADD_QUERY, data)\n",
    "            db_connection.commit()\n",
    "err.close()\n",
    "print('errors occured:', err_counter)"
   ]
  },
  {
   "cell_type": "code",
   "execution_count": 38,
   "id": "7b18031e",
   "metadata": {},
   "outputs": [],
   "source": [
    "db_connection.close()  # закрываем подключение к БД"
   ]
  },
  {
   "cell_type": "code",
   "execution_count": null,
   "id": "276d8f70",
   "metadata": {},
   "outputs": [],
   "source": []
  }
 ],
 "metadata": {
  "kernelspec": {
   "display_name": "Python 3 (ipykernel)",
   "language": "python",
   "name": "python3"
  },
  "language_info": {
   "codemirror_mode": {
    "name": "ipython",
    "version": 3
   },
   "file_extension": ".py",
   "mimetype": "text/x-python",
   "name": "python",
   "nbconvert_exporter": "python",
   "pygments_lexer": "ipython3",
   "version": "3.9.7"
  }
 },
 "nbformat": 4,
 "nbformat_minor": 5
}
